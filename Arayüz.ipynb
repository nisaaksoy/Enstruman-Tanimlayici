{
 "cells": [
  {
   "cell_type": "code",
   "execution_count": 7,
   "id": "a327dcd0-1e14-45a3-ba1f-b0c52f664b1a",
   "metadata": {},
   "outputs": [],
   "source": [
    "import tkinter as tk\n",
    "from tkinter import filedialog, messagebox\n",
    "import librosa\n",
    "import joblib\n",
    "import numpy as np\n",
    "\n",
    "# Özellik çıkarım fonksiyonu\n",
    "def extract_features(file_path):\n",
    "    # Ses dosyasını yükle\n",
    "    y, sr = librosa.load(file_path, sr=None)  # sr=None, orijinal örnekleme hızını korur\n",
    "    \n",
    "    # MFCC özelliklerini çıkar\n",
    "    mfcc = librosa.feature.mfcc(y=y, sr=sr, n_mfcc=13)  # 13 MFCC katsayısı\n",
    "    \n",
    "    # MFCC'nin ortalamasını al\n",
    "    mfcc_mean = np.mean(mfcc, axis=1)\n",
    "    \n",
    "    return mfcc_mean\n",
    "\n",
    "# Tkinter arayüzü\n",
    "def load_and_predict():\n",
    "    # Kullanıcıdan bir dosya seçmesi istenir\n",
    "    file_path = filedialog.askopenfilename(filetypes=[(\"MP3 Files\", \"*.mp3\")])\n",
    "    if not file_path:\n",
    "        return  # Dosya seçilmediyse çık\n",
    "    \n",
    "    try:\n",
    "        # Modeli yükle\n",
    "        model = joblib.load(\"random_forest_model.pkl\")\n",
    "        \n",
    "        # Özellikleri çıkar\n",
    "        features = extract_features(file_path).reshape(1, -1)  # Tek boyutlu array\n",
    "        \n",
    "        # Tahmin yap\n",
    "        prediction = model.predict(features)[0]\n",
    "        \n",
    "        # Tahmini sınıfa dönüştür\n",
    "        instrument_classes = [\"Piyano\", \"Keman\", \"Kanun\", \"Gitar\"]\n",
    "        predicted_instrument = instrument_classes[int(prediction)]\n",
    "        \n",
    "        # Sonucu kullanıcıya göster\n",
    "        messagebox.showinfo(\"Tahmin Sonucu\", f\"Bu dosya '{predicted_instrument}' enstrümanına ait.\")\n",
    "    except Exception as e:\n",
    "        messagebox.showerror(\"Hata\", f\"Tahmin sırasında bir hata oluştu: {e}\")\n",
    "\n",
    "# Tkinter GUI\n",
    "root = tk.Tk()\n",
    "root.title(\"Enstrüman Tahmini\")\n",
    "\n",
    "label = tk.Label(root, text=\"Bir MP3 dosyası yükleyin ve çalan enstrümanı öğrenin.\")\n",
    "label.pack(pady=20)\n",
    "\n",
    "button = tk.Button(root, text=\"MP3 Dosyası Yükle\", command=load_and_predict)\n",
    "button.pack(pady=10)\n",
    "\n",
    "root.mainloop()\n"
   ]
  },
  {
   "cell_type": "code",
   "execution_count": null,
   "id": "bda6e5f3-b586-405e-b0d1-63d2a9ab7530",
   "metadata": {},
   "outputs": [],
   "source": []
  },
  {
   "cell_type": "code",
   "execution_count": null,
   "id": "17244b18-bd0a-4403-a0cc-0bf033796633",
   "metadata": {},
   "outputs": [],
   "source": []
  }
 ],
 "metadata": {
  "kernelspec": {
   "display_name": "Python 3 (ipykernel)",
   "language": "python",
   "name": "python3"
  },
  "language_info": {
   "codemirror_mode": {
    "name": "ipython",
    "version": 3
   },
   "file_extension": ".py",
   "mimetype": "text/x-python",
   "name": "python",
   "nbconvert_exporter": "python",
   "pygments_lexer": "ipython3",
   "version": "3.12.2"
  }
 },
 "nbformat": 4,
 "nbformat_minor": 5
}
