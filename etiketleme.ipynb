{
 "cells": [
  {
   "cell_type": "code",
   "execution_count": null,
   "id": "d4be2a93-a4b8-4be2-bc19-bbb93b29ff5e",
   "metadata": {},
   "outputs": [
    {
     "name": "stdout",
     "output_type": "stream",
     "text": [
      "Toplam veri sayısı: 14647\n",
      "Örnek bir MFCC verisi: [[-528.546     -511.15637   -474.06735   ... -282.1321    -301.36893\n",
      "  -323.31006  ]\n",
      " [   5.6669626   24.289175    50.58533   ...  110.64725    107.038704\n",
      "   101.80883  ]\n",
      " [  -1.170081     5.1891623   11.636992  ...  -50.12626    -49.600876\n",
      "   -46.741325 ]\n",
      " ...\n",
      " [  -3.3576822   -3.465158    -1.8829875 ...  -11.877163    -5.7145214\n",
      "     5.3668895]\n",
      " [  -6.817239   -12.677327    -9.990316  ...   -4.5545955  -10.044651\n",
      "    -8.943605 ]\n",
      " [  -5.220399   -10.639755   -12.067743  ...  -13.589108    -8.248816\n",
      "    -5.7354994]]\n",
      "Örnek bir etiket: gitar\n"
     ]
    }
   ],
   "source": [
    "import numpy as np\n",
    "import os\n",
    "\n",
    "# Verileri ve etiketleri saklamak için boş listeler\n",
    "mfcc_data = []\n",
    "labels = []\n",
    "\n",
    "# Klasör isimleri ve etiketleri eşleştiren bir sözlük\n",
    "enstruman_klasorleri = {\n",
    "    \"mfcc_cikti_gitar\": \"gitar\",\n",
    "    \"mfcc_cikti_kanun\": \"kanun\",\n",
    "    \"mfcc_cikti_keman\": \"keman\",\n",
    "    \"mfcc_cikti_piyano\": \"piyano\"\n",
    "}\n",
    "\n",
    "# Ana dizinin yolu\n",
    "ana_dizin = r\"C:\\Users\\pc\\makineProje\"\n",
    "\n",
    "# Her klasör için\n",
    "for klasor, etiket in enstruman_klasorleri.items():\n",
    "    klasor_yolu = os.path.join(ana_dizin, klasor)\n",
    "    \n",
    "    # Klasördeki her npy dosyasını yükleme\n",
    "    for dosya_adi in os.listdir(klasor_yolu):\n",
    "        if dosya_adi.endswith(\".npy\"):\n",
    "            dosya_yolu = os.path.join(klasor_yolu, dosya_adi)\n",
    "            mfcc = np.load(dosya_yolu)\n",
    "            \n",
    "            # Veriyi ve etiketi listelere ekleme\n",
    "            mfcc_data.append(mfcc)\n",
    "            labels.append(etiket)\n",
    "\n",
    "\n",
    "print(\"Toplam veri sayısı:\", len(mfcc_data))\n",
    "print(\"Örnek bir MFCC verisi:\", mfcc_data[0])\n",
    "print(\"Örnek bir etiket:\", labels[0])\n"
   ]
  },
  {
   "cell_type": "code",
   "execution_count": null,
   "id": "1d1c35ea-8e62-4508-9334-4f208fe883af",
   "metadata": {},
   "outputs": [],
   "source": []
  }
 ],
 "metadata": {
  "kernelspec": {
   "display_name": "Python 3 (ipykernel)",
   "language": "python",
   "name": "python3"
  },
  "language_info": {
   "codemirror_mode": {
    "name": "ipython",
    "version": 3
   },
   "file_extension": ".py",
   "mimetype": "text/x-python",
   "name": "python",
   "nbconvert_exporter": "python",
   "pygments_lexer": "ipython3",
   "version": "3.12.2"
  }
 },
 "nbformat": 4,
 "nbformat_minor": 5
}
